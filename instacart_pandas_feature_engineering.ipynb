{
 "cells": [
  {
   "cell_type": "code",
   "execution_count": 2,
   "metadata": {},
   "outputs": [],
   "source": [
    "import os\n",
    "import pickle\n",
    "import pandas as pd\n",
    "import numpy as np\n",
    "import matplotlib.pyplot as plt\n",
    "from collections import OrderedDict"
   ]
  },
  {
   "cell_type": "code",
   "execution_count": 3,
   "metadata": {},
   "outputs": [],
   "source": [
    "with open('prior_df.pickle', 'rb') as read_file:\n",
    "    prior_df = pickle.load(read_file)   "
   ]
  },
  {
   "cell_type": "code",
   "execution_count": 76,
   "metadata": {},
   "outputs": [],
   "source": [
    "# import SQL table with user features\n",
    "with open('user_df.pickle','rb') as read_file:\n",
    "    user_df = pickle.load(read_file)"
   ]
  },
  {
   "cell_type": "code",
   "execution_count": 51,
   "metadata": {},
   "outputs": [],
   "source": [
    "# import SQL table with product features\n",
    "with open('prod_df.pickle','rb') as read_file:\n",
    "    prod_df = pickle.load(read_file)   "
   ]
  },
  {
   "cell_type": "code",
   "execution_count": 6,
   "metadata": {},
   "outputs": [],
   "source": [
    "orders= pd.read_csv('./instacart_2017_05_01/orders_clean.csv')"
   ]
  },
  {
   "cell_type": "code",
   "execution_count": 7,
   "metadata": {},
   "outputs": [],
   "source": [
    "train_orders = pd.read_csv('./instacart_2017_05_01/order_products__train.csv')"
   ]
  },
  {
   "cell_type": "code",
   "execution_count": 8,
   "metadata": {},
   "outputs": [],
   "source": [
    "df_train_orders = train_orders.merge(orders.drop('eval_set',axis=1),on='order_id')"
   ]
  },
  {
   "cell_type": "code",
   "execution_count": 9,
   "metadata": {},
   "outputs": [],
   "source": [
    "# creating df for user product features on prior data\n",
    "df_user_product = (prior_df.groupby(['product_id','user_id'],as_index=False) \n",
    "                                          .agg({'order_id':'count'}) \n",
    "                                          .rename(columns={'order_id':'user_product_total_orders'}))"
   ]
  },
  {
   "cell_type": "code",
   "execution_count": 10,
   "metadata": {},
   "outputs": [],
   "source": [
    "# creating random sample of 20% of users from train set - for RAM purposes\n",
    "import random\n",
    "def get_smaller_data(df,seed=42):\n",
    "    rs = np.random.RandomState(seed)\n",
    "    train_ids = df['user_id'].unique() \n",
    "    train_users = rs.choice(train_ids, \n",
    "                               size=int(train_ids.shape[0] * .2), \n",
    "                               replace=False)\n",
    "    smaller_df = df[df['user_id'].isin(train_users)]\n",
    "    return train_users"
   ]
  },
  {
   "cell_type": "code",
   "execution_count": 11,
   "metadata": {},
   "outputs": [],
   "source": [
    "small_train_users = get_smaller_data(df_train_orders)"
   ]
  },
  {
   "cell_type": "code",
   "execution_count": 74,
   "metadata": {},
   "outputs": [],
   "source": [
    "# filtering df for only smaller train set IDs\n",
    "df_X = df_user_product[df_user_product['user_id'].isin(small_train_users)]"
   ]
  },
  {
   "cell_type": "code",
   "execution_count": 75,
   "metadata": {},
   "outputs": [],
   "source": [
    "# latest cart = train_cart product ids\n",
    "train_carts = (df_train_orders.groupby('user_id',as_index=False)\n",
    "                                      .agg({'product_id':(lambda x: set(x))})\n",
    "                                      .rename(columns={'product_id':'latest_cart'}))\n",
    "\n",
    "df_X = df_X.merge(train_carts, on='user_id')\n",
    "df_X['will_order'] = (df_X.apply(lambda row: row['product_id'] in row['latest_cart'], axis=1).astype(int))"
   ]
  },
  {
   "cell_type": "code",
   "execution_count": 77,
   "metadata": {},
   "outputs": [],
   "source": [
    "# merge product features onto df for modeling\n",
    "df_X = df_X.merge(prod_df,on='product_id')"
   ]
  },
  {
   "cell_type": "code",
   "execution_count": 78,
   "metadata": {},
   "outputs": [],
   "source": [
    "# merge user features onto df for modeling\n",
    "df_X = df_X.merge(user_df,on='user_id')"
   ]
  },
  {
   "cell_type": "markdown",
   "metadata": {},
   "source": [
    "### User-Product Pandas Feature Engineering"
   ]
  },
  {
   "cell_type": "code",
   "execution_count": 133,
   "metadata": {},
   "outputs": [],
   "source": [
    "# streak length - number of consecutive user orders that contain the product\n",
    "# num orders since last purchased product\n",
    "# num days since last purchased product\n",
    "# group by user_id, product_id, order_number\n",
    "# def consec_orders(user_group):\n",
    "#     # get streak length and put into df\n",
    "#     user_num = user_group['user_id']\n",
    "#     max_order = user_group['order_number'].max()\n",
    "#     prod_dict = {}\n",
    "#     for product_id, group in user_group.groupby('product_id'):\n",
    "#         prod_dict[product_id] = {'order_number':max(group['order_number']),'streak_length':0,'orders_since_prod':0,'prod_days':0,'days_since_prod':None}\n",
    "          \n",
    "#     for order_number, group in user_group.groupby('order_number', sort=False):\n",
    "#             days = max(group['days_since_prior_order'])\n",
    "#     continue\n",
    "            \n",
    "#         product_list = group['product_id'].unique()\n",
    "        \n",
    "#         if group.order_id.unique in train_orders_list:\n",
    "#             for product_id in prod_dict:\n",
    "#                 prod_dict[product_id]['prod_days'] +=days\n",
    "#             continue\n",
    "                \n",
    "#         for product_id in prod_dict: \n",
    "#             if product_id in product_list:\n",
    "#                 if prod_dict[product_id]['days_since_prod']==None:\n",
    "#                     prod_dict[product_id]['days_since_prod'] = prod_dict[product_id]['prod_days']\n",
    "#                     prod_dict[product_id]['orders_since_prod'] = max_order-order_number\n",
    "#                 if max_order-order_number-1 == prod_dict[product_id]['streak_length']:\n",
    "#                     prod_dict[product_id]['streak_length'] += 1\n",
    "                    \n",
    "#                 prod_dict[product_id]['prod_days'] = days\n",
    "#             else:\n",
    "#                 prod_dict[product_id]['prod_days'] += days\n",
    "#           #increment days, and loop again\n",
    "#         days = max(group['days_since_prior_order'])\n",
    "\n",
    "#     agg_df = pd.DataFrame(prod_dict)\n",
    "#     agg_df = agg_df.transpose()\n",
    "#     agg_df = agg_df.reset_index().rename(columns={'index':'product_id'})\n",
    "#     return agg_df\n",
    "\n",
    "# aggregating new features per user\n",
    "# # killed this. never completed running.\n",
    "# user_agg_df = pd.DataFrame()\n",
    "# for each in users_list:\n",
    "#         user_df = train_df[train_df['user_id'] == each]\n",
    "#         agg_df = consec_orders(user_df)\n",
    "#         agg_df['user_id'] = each\n",
    "#         user_agg_df = user_agg_df.append(agg_df, ignore_index=True)"
   ]
  },
  {
   "cell_type": "code",
   "execution_count": 155,
   "metadata": {},
   "outputs": [],
   "source": [
    "# create new features for # times product ordered in latest 5 orders as a %\n",
    "def latest_orders(user_group):\n",
    "    # num of latest orders that contain the product\n",
    "    max_order = user_group['order_number'].max()\n",
    "    prod_dict = {}\n",
    "    for product_id, group in user_group.groupby('product_id'):\n",
    "        prod_dict[product_id] = {'num_latest_orders':0}\n",
    "          \n",
    "    for order_number, group in user_group.groupby('order_number', sort=False):\n",
    "            for i in range(0,5):\n",
    "                if order_number == max_order - i:\n",
    "                    product_list = group['product_id'].unique()\n",
    "\n",
    "                    for product_id in prod_dict: \n",
    "                        if product_id in product_list:\n",
    "                            prod_dict[product_id]['num_latest_orders']+=1\n",
    "                        else:\n",
    "                            continue\n",
    "\n",
    "    agg_df = pd.DataFrame(prod_dict)\n",
    "    agg_df = agg_df.transpose()\n",
    "    agg_df = agg_df.reset_index().rename(columns={'index':'product_id'})\n",
    "    return agg_df"
   ]
  },
  {
   "cell_type": "code",
   "execution_count": 39,
   "metadata": {},
   "outputs": [],
   "source": [
    "# create new features for # times product ordered in latest 5 orders as a %\n",
    "def days_since(user_group):\n",
    "    # num of latest orders that contain the product\n",
    "    max_order = user_group['order_number'].max()\n",
    "    prod_dict = {}\n",
    "    for product_id, group in user_group.groupby('product_id'):\n",
    "        max_days = group['days_since_prior_order'].max()\n",
    "        prod_dict[product_id] = {'num_latest_orders':0,'days_since_prod':None}\n",
    "          \n",
    "    for order_number, group in user_group.groupby('order_number', sort=False):\n",
    "        days_list = []\n",
    "        for i in [4,3,2,1,0]:\n",
    "            if order_number == max_order - i:\n",
    "                product_list = group['product_id'].unique()\n",
    "                days = group['days_since_prior_order'].max()\n",
    "                    \n",
    "                for product_id in prod_dict: \n",
    "                    if product_id in product_list:\n",
    "                        days_list.append(days)\n",
    "                        idx = days_list.index(days)\n",
    "                        prod_dict[product_id]['num_latest_orders']+=1\n",
    "                        prod_dict[product_id]['days_since_prod'] = days_list[idx-1]\n",
    "                    else:\n",
    "                        prod_dict[product_id]['days_since_prod'] = max_days\n",
    "                        continue\n",
    "\n",
    "    agg_df = pd.DataFrame(prod_dict)\n",
    "    agg_df = agg_df.transpose()\n",
    "    agg_df = agg_df.reset_index().rename(columns={'index':'product_id'})\n",
    "    return agg_df"
   ]
  },
  {
   "cell_type": "code",
   "execution_count": 41,
   "metadata": {},
   "outputs": [],
   "source": [
    "# creates dataframe by user ID to run days_since function on\n",
    "user_agg_df = pd.DataFrame()\n",
    "for each in small_train_users:\n",
    "        user_df = prior_df[prior_df['user_id'] == each]\n",
    "        agg_df = days_since(user_df)\n",
    "        agg_df['user_id'] = each\n",
    "        user_agg_df = user_agg_df.append(agg_df, ignore_index=True)"
   ]
  },
  {
   "cell_type": "code",
   "execution_count": 79,
   "metadata": {},
   "outputs": [
    {
     "data": {
      "text/html": [
       "<div>\n",
       "<style scoped>\n",
       "    .dataframe tbody tr th:only-of-type {\n",
       "        vertical-align: middle;\n",
       "    }\n",
       "\n",
       "    .dataframe tbody tr th {\n",
       "        vertical-align: top;\n",
       "    }\n",
       "\n",
       "    .dataframe thead th {\n",
       "        text-align: right;\n",
       "    }\n",
       "</style>\n",
       "<table border=\"1\" class=\"dataframe\">\n",
       "  <thead>\n",
       "    <tr style=\"text-align: right;\">\n",
       "      <th></th>\n",
       "      <th>product_id</th>\n",
       "      <th>user_id</th>\n",
       "      <th>user_prod_avg_cart_order</th>\n",
       "    </tr>\n",
       "  </thead>\n",
       "  <tbody>\n",
       "    <tr>\n",
       "      <th>0</th>\n",
       "      <td>1</td>\n",
       "      <td>138</td>\n",
       "      <td>3.0</td>\n",
       "    </tr>\n",
       "    <tr>\n",
       "      <th>1</th>\n",
       "      <td>1</td>\n",
       "      <td>709</td>\n",
       "      <td>20.0</td>\n",
       "    </tr>\n",
       "    <tr>\n",
       "      <th>2</th>\n",
       "      <td>1</td>\n",
       "      <td>764</td>\n",
       "      <td>10.5</td>\n",
       "    </tr>\n",
       "    <tr>\n",
       "      <th>3</th>\n",
       "      <td>1</td>\n",
       "      <td>777</td>\n",
       "      <td>7.0</td>\n",
       "    </tr>\n",
       "    <tr>\n",
       "      <th>4</th>\n",
       "      <td>1</td>\n",
       "      <td>825</td>\n",
       "      <td>2.0</td>\n",
       "    </tr>\n",
       "  </tbody>\n",
       "</table>\n",
       "</div>"
      ],
      "text/plain": [
       "   product_id  user_id  user_prod_avg_cart_order\n",
       "0           1      138                       3.0\n",
       "1           1      709                      20.0\n",
       "2           1      764                      10.5\n",
       "3           1      777                       7.0\n",
       "4           1      825                       2.0"
      ]
     },
     "execution_count": 79,
     "metadata": {},
     "output_type": "execute_result"
    }
   ],
   "source": [
    "# user-product ID aggegrated dataframe\n",
    "user_prod_features = ['user_prod_avg_cart_order']\n",
    "\n",
    "user_prod_df = (prior_df.groupby(['product_id','user_id'],as_index=False) \\\n",
    "                                                .agg(OrderedDict(\n",
    "                                                     [('add_to_cart_order','mean')])))\n",
    "\n",
    "user_prod_df.columns = ['product_id','user_id'] + user_prod_features \n",
    "user_prod_df.head()"
   ]
  },
  {
   "cell_type": "code",
   "execution_count": 80,
   "metadata": {},
   "outputs": [],
   "source": [
    "user_prod_df = user_prod_df.merge(user_agg_df,on=['product_id','user_id'])"
   ]
  },
  {
   "cell_type": "code",
   "execution_count": 82,
   "metadata": {},
   "outputs": [],
   "source": [
    "# merge user_product features onto dataframe for modeling\n",
    "df_X = df_X.merge(user_prod_df,on=['user_id','product_id'])"
   ]
  },
  {
   "cell_type": "code",
   "execution_count": 85,
   "metadata": {
    "scrolled": true
   },
   "outputs": [],
   "source": [
    "df_X['user_prod_order_freq'] = df_X['user_product_total_orders']/df_X['user_total_orders']"
   ]
  },
  {
   "cell_type": "code",
   "execution_count": 86,
   "metadata": {},
   "outputs": [],
   "source": [
    "df_X['user_prod_latest_perc'] = df_X['num_latest_orders']/5"
   ]
  },
  {
   "cell_type": "code",
   "execution_count": 89,
   "metadata": {},
   "outputs": [],
   "source": [
    "df_X = df_X.drop(columns=['user_product_total_orders','num_latest_orders'],axis=1).rename(columns={'days_since_prod': 'user_prod_days_since_last'})"
   ]
  },
  {
   "cell_type": "code",
   "execution_count": 92,
   "metadata": {},
   "outputs": [
    {
     "data": {
      "text/html": [
       "<div>\n",
       "<style scoped>\n",
       "    .dataframe tbody tr th:only-of-type {\n",
       "        vertical-align: middle;\n",
       "    }\n",
       "\n",
       "    .dataframe tbody tr th {\n",
       "        vertical-align: top;\n",
       "    }\n",
       "\n",
       "    .dataframe thead th {\n",
       "        text-align: right;\n",
       "    }\n",
       "</style>\n",
       "<table border=\"1\" class=\"dataframe\">\n",
       "  <thead>\n",
       "    <tr style=\"text-align: right;\">\n",
       "      <th></th>\n",
       "      <th>product_id</th>\n",
       "      <th>user_id</th>\n",
       "      <th>latest_cart</th>\n",
       "      <th>will_order</th>\n",
       "      <th>prod_total_orders</th>\n",
       "      <th>prod_avg_add_to_cart_order</th>\n",
       "      <th>prod_avg_days_since_prior_order</th>\n",
       "      <th>user_total_orders</th>\n",
       "      <th>user_avg_cartsize</th>\n",
       "      <th>user_total_products</th>\n",
       "      <th>user_avg_days_since_prior_order</th>\n",
       "      <th>user_avg_reorder_ratio</th>\n",
       "      <th>user_prod_avg_cart_order</th>\n",
       "      <th>user_prod_days_since_last</th>\n",
       "      <th>user_prod_order_freq</th>\n",
       "      <th>user_prod_latest_perc</th>\n",
       "    </tr>\n",
       "  </thead>\n",
       "  <tbody>\n",
       "    <tr>\n",
       "      <th>0</th>\n",
       "      <td>1</td>\n",
       "      <td>709</td>\n",
       "      <td>{45444, 32005, 26893, 8859, 28577, 48036, 1027...</td>\n",
       "      <td>0</td>\n",
       "      <td>1202</td>\n",
       "      <td>6</td>\n",
       "      <td>10.3261</td>\n",
       "      <td>5.0</td>\n",
       "      <td>38.0</td>\n",
       "      <td>135.0</td>\n",
       "      <td>5.708333</td>\n",
       "      <td>0.296875</td>\n",
       "      <td>20.0</td>\n",
       "      <td>8.0</td>\n",
       "      <td>0.2</td>\n",
       "      <td>0.2</td>\n",
       "    </tr>\n",
       "    <tr>\n",
       "      <th>1</th>\n",
       "      <td>196</td>\n",
       "      <td>709</td>\n",
       "      <td>{45444, 32005, 26893, 8859, 28577, 48036, 1027...</td>\n",
       "      <td>0</td>\n",
       "      <td>22920</td>\n",
       "      <td>4</td>\n",
       "      <td>11.2559</td>\n",
       "      <td>5.0</td>\n",
       "      <td>38.0</td>\n",
       "      <td>135.0</td>\n",
       "      <td>5.708333</td>\n",
       "      <td>0.296875</td>\n",
       "      <td>25.0</td>\n",
       "      <td>8.0</td>\n",
       "      <td>0.4</td>\n",
       "      <td>0.4</td>\n",
       "    </tr>\n",
       "    <tr>\n",
       "      <th>2</th>\n",
       "      <td>223</td>\n",
       "      <td>709</td>\n",
       "      <td>{45444, 32005, 26893, 8859, 28577, 48036, 1027...</td>\n",
       "      <td>0</td>\n",
       "      <td>99</td>\n",
       "      <td>5</td>\n",
       "      <td>9.9798</td>\n",
       "      <td>5.0</td>\n",
       "      <td>38.0</td>\n",
       "      <td>135.0</td>\n",
       "      <td>5.708333</td>\n",
       "      <td>0.296875</td>\n",
       "      <td>34.0</td>\n",
       "      <td>8.0</td>\n",
       "      <td>0.2</td>\n",
       "      <td>0.2</td>\n",
       "    </tr>\n",
       "    <tr>\n",
       "      <th>3</th>\n",
       "      <td>587</td>\n",
       "      <td>709</td>\n",
       "      <td>{45444, 32005, 26893, 8859, 28577, 48036, 1027...</td>\n",
       "      <td>0</td>\n",
       "      <td>23</td>\n",
       "      <td>12</td>\n",
       "      <td>12.6957</td>\n",
       "      <td>5.0</td>\n",
       "      <td>38.0</td>\n",
       "      <td>135.0</td>\n",
       "      <td>5.708333</td>\n",
       "      <td>0.296875</td>\n",
       "      <td>25.0</td>\n",
       "      <td>8.0</td>\n",
       "      <td>0.2</td>\n",
       "      <td>0.2</td>\n",
       "    </tr>\n",
       "    <tr>\n",
       "      <th>4</th>\n",
       "      <td>955</td>\n",
       "      <td>709</td>\n",
       "      <td>{45444, 32005, 26893, 8859, 28577, 48036, 1027...</td>\n",
       "      <td>0</td>\n",
       "      <td>143</td>\n",
       "      <td>10</td>\n",
       "      <td>11.3636</td>\n",
       "      <td>5.0</td>\n",
       "      <td>38.0</td>\n",
       "      <td>135.0</td>\n",
       "      <td>5.708333</td>\n",
       "      <td>0.296875</td>\n",
       "      <td>30.0</td>\n",
       "      <td>8.0</td>\n",
       "      <td>0.2</td>\n",
       "      <td>0.2</td>\n",
       "    </tr>\n",
       "  </tbody>\n",
       "</table>\n",
       "</div>"
      ],
      "text/plain": [
       "   product_id  user_id                                        latest_cart  \\\n",
       "0           1      709  {45444, 32005, 26893, 8859, 28577, 48036, 1027...   \n",
       "1         196      709  {45444, 32005, 26893, 8859, 28577, 48036, 1027...   \n",
       "2         223      709  {45444, 32005, 26893, 8859, 28577, 48036, 1027...   \n",
       "3         587      709  {45444, 32005, 26893, 8859, 28577, 48036, 1027...   \n",
       "4         955      709  {45444, 32005, 26893, 8859, 28577, 48036, 1027...   \n",
       "\n",
       "   will_order  prod_total_orders  prod_avg_add_to_cart_order  \\\n",
       "0           0               1202                           6   \n",
       "1           0              22920                           4   \n",
       "2           0                 99                           5   \n",
       "3           0                 23                          12   \n",
       "4           0                143                          10   \n",
       "\n",
       "   prod_avg_days_since_prior_order  user_total_orders  user_avg_cartsize  \\\n",
       "0                          10.3261                5.0               38.0   \n",
       "1                          11.2559                5.0               38.0   \n",
       "2                           9.9798                5.0               38.0   \n",
       "3                          12.6957                5.0               38.0   \n",
       "4                          11.3636                5.0               38.0   \n",
       "\n",
       "   user_total_products  user_avg_days_since_prior_order  \\\n",
       "0                135.0                         5.708333   \n",
       "1                135.0                         5.708333   \n",
       "2                135.0                         5.708333   \n",
       "3                135.0                         5.708333   \n",
       "4                135.0                         5.708333   \n",
       "\n",
       "   user_avg_reorder_ratio  user_prod_avg_cart_order  \\\n",
       "0                0.296875                      20.0   \n",
       "1                0.296875                      25.0   \n",
       "2                0.296875                      34.0   \n",
       "3                0.296875                      25.0   \n",
       "4                0.296875                      30.0   \n",
       "\n",
       "   user_prod_days_since_last  user_prod_order_freq  user_prod_latest_perc  \n",
       "0                        8.0                   0.2                    0.2  \n",
       "1                        8.0                   0.4                    0.4  \n",
       "2                        8.0                   0.2                    0.2  \n",
       "3                        8.0                   0.2                    0.2  \n",
       "4                        8.0                   0.2                    0.2  "
      ]
     },
     "execution_count": 92,
     "metadata": {},
     "output_type": "execute_result"
    }
   ],
   "source": [
    "df_X.head()"
   ]
  },
  {
   "cell_type": "code",
   "execution_count": 203,
   "metadata": {},
   "outputs": [],
   "source": [
    "# with open('df_X.pickle', 'wb') as to_write:\n",
    "#     pickle.dump(df_X,to_write)"
   ]
  }
 ],
 "metadata": {
  "kernelspec": {
   "display_name": "Python [conda env:metis] *",
   "language": "python",
   "name": "conda-env-metis-py"
  },
  "language_info": {
   "codemirror_mode": {
    "name": "ipython",
    "version": 3
   },
   "file_extension": ".py",
   "mimetype": "text/x-python",
   "name": "python",
   "nbconvert_exporter": "python",
   "pygments_lexer": "ipython3",
   "version": "3.7.4"
  }
 },
 "nbformat": 4,
 "nbformat_minor": 4
}
