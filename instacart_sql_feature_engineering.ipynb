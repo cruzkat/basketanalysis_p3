{
 "cells": [
  {
   "cell_type": "markdown",
   "metadata": {},
   "source": [
    "## Using SQL Database in AWS\n",
    "* set up product table with agg func from train_df\n",
    "* set up user table with agg func from train_df\n",
    "* convert sql tables to pandas dfs\n",
    "* pickle dfs"
   ]
  },
  {
   "cell_type": "code",
   "execution_count": 63,
   "metadata": {},
   "outputs": [],
   "source": [
    "import pandas as pd\n",
    "import psycopg2 as pg\n",
    "import pandas.io.sql as pd_sql\n",
    "import os\n",
    "import pickle"
   ]
  },
  {
   "cell_type": "code",
   "execution_count": 61,
   "metadata": {},
   "outputs": [
    {
     "data": {
      "text/plain": [
       "['.DS_Store',\n",
       " '.ipynb_checkpoints',\n",
       " 'instacart_2017_05_01',\n",
       " 'instacart_eda_local_sql.ipynb',\n",
       " 'instacart_pandas.ipynb',\n",
       " 'instacart_train_sql.ipynb',\n",
       " 'orders.csv',\n",
       " 'p3_nb1.ipynb']"
      ]
     },
     "execution_count": 61,
     "metadata": {},
     "output_type": "execute_result"
    }
   ],
   "source": [
    "os.listdir()"
   ]
  },
  {
   "cell_type": "code",
   "execution_count": 4,
   "metadata": {},
   "outputs": [],
   "source": [
    "connection_args = {\n",
    "    'host': '52.8.86.131',  # You will need to put the PUBLIC IP address of your AWS instance here\n",
    "    'user': 'ubuntu',    # username on AWS is 'ubuntu'\n",
    "    'dbname': 'instacart',    # DB that we are connecting to\n",
    "    'port': 5432             # port opened on AWS\n",
    "}\n",
    "\n",
    "connection = pg.connect(**connection_args)\n",
    "cursor = connection.cursor()\n"
   ]
  },
  {
   "cell_type": "code",
   "execution_count": 3,
   "metadata": {},
   "outputs": [
    {
     "data": {
      "text/plain": [
       "Index(['order_id', 'product_id', 'add_to_cart_order', 'reordered', 'user_id',\n",
       "       'order_number', 'order_dow', 'order_hour_of_day',\n",
       "       'days_since_prior_order'],\n",
       "      dtype='object')"
      ]
     },
     "execution_count": 3,
     "metadata": {},
     "output_type": "execute_result"
    }
   ],
   "source": [
    "query = \"SELECT * FROM train LIMIT 5\"\n",
    "\n",
    "pd_sql.read_sql(query, connection).columns"
   ]
  },
  {
   "cell_type": "markdown",
   "metadata": {},
   "source": [
    "### Total Orders by User ID"
   ]
  },
  {
   "cell_type": "code",
   "execution_count": 5,
   "metadata": {},
   "outputs": [
    {
     "data": {
      "text/html": [
       "<div>\n",
       "<style scoped>\n",
       "    .dataframe tbody tr th:only-of-type {\n",
       "        vertical-align: middle;\n",
       "    }\n",
       "\n",
       "    .dataframe tbody tr th {\n",
       "        vertical-align: top;\n",
       "    }\n",
       "\n",
       "    .dataframe thead th {\n",
       "        text-align: right;\n",
       "    }\n",
       "</style>\n",
       "<table border=\"1\" class=\"dataframe\">\n",
       "  <thead>\n",
       "    <tr style=\"text-align: right;\">\n",
       "      <th></th>\n",
       "      <th>user_id</th>\n",
       "      <th>total_user_orders</th>\n",
       "    </tr>\n",
       "  </thead>\n",
       "  <tbody>\n",
       "    <tr>\n",
       "      <th>0</th>\n",
       "      <td>1</td>\n",
       "      <td>10</td>\n",
       "    </tr>\n",
       "    <tr>\n",
       "      <th>1</th>\n",
       "      <td>2</td>\n",
       "      <td>14</td>\n",
       "    </tr>\n",
       "    <tr>\n",
       "      <th>2</th>\n",
       "      <td>5</td>\n",
       "      <td>4</td>\n",
       "    </tr>\n",
       "    <tr>\n",
       "      <th>3</th>\n",
       "      <td>7</td>\n",
       "      <td>20</td>\n",
       "    </tr>\n",
       "    <tr>\n",
       "      <th>4</th>\n",
       "      <td>8</td>\n",
       "      <td>3</td>\n",
       "    </tr>\n",
       "    <tr>\n",
       "      <th>...</th>\n",
       "      <td>...</td>\n",
       "      <td>...</td>\n",
       "    </tr>\n",
       "    <tr>\n",
       "      <th>131204</th>\n",
       "      <td>206199</td>\n",
       "      <td>19</td>\n",
       "    </tr>\n",
       "    <tr>\n",
       "      <th>131205</th>\n",
       "      <td>206200</td>\n",
       "      <td>23</td>\n",
       "    </tr>\n",
       "    <tr>\n",
       "      <th>131206</th>\n",
       "      <td>206203</td>\n",
       "      <td>5</td>\n",
       "    </tr>\n",
       "    <tr>\n",
       "      <th>131207</th>\n",
       "      <td>206205</td>\n",
       "      <td>3</td>\n",
       "    </tr>\n",
       "    <tr>\n",
       "      <th>131208</th>\n",
       "      <td>206209</td>\n",
       "      <td>13</td>\n",
       "    </tr>\n",
       "  </tbody>\n",
       "</table>\n",
       "<p>131209 rows × 2 columns</p>\n",
       "</div>"
      ],
      "text/plain": [
       "        user_id  total_user_orders\n",
       "0             1                 10\n",
       "1             2                 14\n",
       "2             5                  4\n",
       "3             7                 20\n",
       "4             8                  3\n",
       "...         ...                ...\n",
       "131204   206199                 19\n",
       "131205   206200                 23\n",
       "131206   206203                  5\n",
       "131207   206205                  3\n",
       "131208   206209                 13\n",
       "\n",
       "[131209 rows x 2 columns]"
      ]
     },
     "execution_count": 5,
     "metadata": {},
     "output_type": "execute_result"
    }
   ],
   "source": [
    "user_group = \"\"\"\n",
    "            SELECT user_id, COUNT(DISTINCT(order_ID)) as total_user_orders\n",
    "            FROM train\n",
    "            GROUP BY user_id\n",
    "            \"\"\"\n",
    "pd_sql.read_sql(user_group, connection)"
   ]
  },
  {
   "cell_type": "markdown",
   "metadata": {},
   "source": [
    "### Sum Total Orders by User ID"
   ]
  },
  {
   "cell_type": "code",
   "execution_count": 8,
   "metadata": {
    "scrolled": true
   },
   "outputs": [
    {
     "data": {
      "text/html": [
       "<div>\n",
       "<style scoped>\n",
       "    .dataframe tbody tr th:only-of-type {\n",
       "        vertical-align: middle;\n",
       "    }\n",
       "\n",
       "    .dataframe tbody tr th {\n",
       "        vertical-align: top;\n",
       "    }\n",
       "\n",
       "    .dataframe thead th {\n",
       "        text-align: right;\n",
       "    }\n",
       "</style>\n",
       "<table border=\"1\" class=\"dataframe\">\n",
       "  <thead>\n",
       "    <tr style=\"text-align: right;\">\n",
       "      <th></th>\n",
       "      <th>user_id</th>\n",
       "      <th>user_total_products</th>\n",
       "    </tr>\n",
       "  </thead>\n",
       "  <tbody>\n",
       "    <tr>\n",
       "      <th>0</th>\n",
       "      <td>1</td>\n",
       "      <td>18</td>\n",
       "    </tr>\n",
       "    <tr>\n",
       "      <th>1</th>\n",
       "      <td>2</td>\n",
       "      <td>102</td>\n",
       "    </tr>\n",
       "    <tr>\n",
       "      <th>2</th>\n",
       "      <td>5</td>\n",
       "      <td>23</td>\n",
       "    </tr>\n",
       "    <tr>\n",
       "      <th>3</th>\n",
       "      <td>7</td>\n",
       "      <td>68</td>\n",
       "    </tr>\n",
       "    <tr>\n",
       "      <th>4</th>\n",
       "      <td>8</td>\n",
       "      <td>36</td>\n",
       "    </tr>\n",
       "    <tr>\n",
       "      <th>...</th>\n",
       "      <td>...</td>\n",
       "      <td>...</td>\n",
       "    </tr>\n",
       "    <tr>\n",
       "      <th>131204</th>\n",
       "      <td>206199</td>\n",
       "      <td>134</td>\n",
       "    </tr>\n",
       "    <tr>\n",
       "      <th>131205</th>\n",
       "      <td>206200</td>\n",
       "      <td>95</td>\n",
       "    </tr>\n",
       "    <tr>\n",
       "      <th>131206</th>\n",
       "      <td>206203</td>\n",
       "      <td>84</td>\n",
       "    </tr>\n",
       "    <tr>\n",
       "      <th>131207</th>\n",
       "      <td>206205</td>\n",
       "      <td>24</td>\n",
       "    </tr>\n",
       "    <tr>\n",
       "      <th>131208</th>\n",
       "      <td>206209</td>\n",
       "      <td>68</td>\n",
       "    </tr>\n",
       "  </tbody>\n",
       "</table>\n",
       "<p>131209 rows × 2 columns</p>\n",
       "</div>"
      ],
      "text/plain": [
       "        user_id  user_total_products\n",
       "0             1                   18\n",
       "1             2                  102\n",
       "2             5                   23\n",
       "3             7                   68\n",
       "4             8                   36\n",
       "...         ...                  ...\n",
       "131204   206199                  134\n",
       "131205   206200                   95\n",
       "131206   206203                   84\n",
       "131207   206205                   24\n",
       "131208   206209                   68\n",
       "\n",
       "[131209 rows x 2 columns]"
      ]
     },
     "execution_count": 8,
     "metadata": {},
     "output_type": "execute_result"
    }
   ],
   "source": [
    "user_group = \"\"\"\n",
    "            SELECT user_id, COUNT(DISTINCT(product_id)) as user_total_products\n",
    "            FROM train\n",
    "            GROUP BY user_id\n",
    "            \"\"\"\n",
    "pd_sql.read_sql(user_group, connection)"
   ]
  },
  {
   "cell_type": "markdown",
   "metadata": {},
   "source": [
    "### User Average Days Since Order"
   ]
  },
  {
   "cell_type": "code",
   "execution_count": null,
   "metadata": {},
   "outputs": [],
   "source": [
    "user_group = \"\"\"\n",
    "            SELECT user_id, AVG(days_since_prior_order) as user_avg_days_since_order\n",
    "            FROM train\n",
    "            GROUP BY user_id\n",
    "            \"\"\"\n",
    "pd_sql.read_sql(user_group, connection)"
   ]
  },
  {
   "cell_type": "markdown",
   "metadata": {},
   "source": [
    "### Fill User_DF SQL Table with User Features from Train SQL Table"
   ]
  },
  {
   "cell_type": "code",
   "execution_count": null,
   "metadata": {},
   "outputs": [],
   "source": [
    "# terminal command for creating new SQL table\n",
    "'''CREATE TABLE IF NOT EXISTS user_df (\n",
    "    user_id INT NOT NULL,\n",
    "    user_total_orders DOUBLE PRECISION NULL,\n",
    "    user_avg_cartsize DOUBLE PRECISION NULL,\n",
    "    user_total_products DOUBLE PRECISION NULL,\n",
    "    user_avg_days_since_prior_order DOUBLE PRECISION NULL,\n",
    "    user_avg_reorder_ratio DOUBLE PRECISION NOT NULL);'''"
   ]
  },
  {
   "cell_type": "code",
   "execution_count": 24,
   "metadata": {},
   "outputs": [],
   "source": [
    "fill_user = \"\"\"\n",
    "    INSERT INTO user_df (user_id, user_total_orders, user_avg_cartsize, user_total_products, user_avg_days_since_prior_order, user_avg_reorder_ratio)\n",
    "        SELECT\n",
    "        user_id,\n",
    "        COUNT(DISTINCT(order_id)) AS user_total_orders,\n",
    "        (COUNT(order_id) / COUNT(DISTINCT(order_id))) AS user_avg_cartsize,\n",
    "        COUNT(DISTINCT(product_id)) AS user_total_products,\n",
    "        AVG(days_since_prior_order) AS user_avg_days_since_prior_order,\n",
    "        AVG(reordered) AS user_avg_reorder_ratio\n",
    "        FROM train\n",
    "        GROUP BY user_id\n",
    "        \"\"\""
   ]
  },
  {
   "cell_type": "code",
   "execution_count": 25,
   "metadata": {},
   "outputs": [],
   "source": [
    "cursor.execute(fill_user)"
   ]
  },
  {
   "cell_type": "code",
   "execution_count": 57,
   "metadata": {},
   "outputs": [],
   "source": [
    "user_query = \"SELECT * FROM user_df;\"\n",
    "\n",
    "user_df = pd_sql.read_sql(user_query, connection)"
   ]
  },
  {
   "cell_type": "code",
   "execution_count": 27,
   "metadata": {},
   "outputs": [],
   "source": [
    "cursor.execute('commit;')"
   ]
  },
  {
   "cell_type": "code",
   "execution_count": 65,
   "metadata": {},
   "outputs": [],
   "source": [
    "## pickle dataframe for later use\n",
    "# with open('user_df.pickle', 'wb') as to_write:\n",
    "#     pickle.dump(user_df, to_write)"
   ]
  },
  {
   "cell_type": "markdown",
   "metadata": {},
   "source": [
    "## Create Product_df Table with Product Features from Train SQL Table"
   ]
  },
  {
   "cell_type": "code",
   "execution_count": null,
   "metadata": {},
   "outputs": [],
   "source": [
    "# terminal command to create new table\n",
    "CREATE TABLE IF NOT EXISTS prod_df (\n",
    "    product_id int NOT NULL,\n",
    "    prod_total_orders int NOT NULL,\n",
    "    prod_avg_add_to_cart_order int NOT NULL,\n",
    "    prod_avg_days_since_prior_order float(2) NOT NULL);"
   ]
  },
  {
   "cell_type": "code",
   "execution_count": 28,
   "metadata": {},
   "outputs": [],
   "source": [
    "fill_prod = \"\"\"\n",
    "    INSERT INTO prod_df (product_id, prod_total_orders, prod_avg_add_to_cart_order, prod_avg_days_since_prior_order)\n",
    "        SELECT\n",
    "        product_id,\n",
    "        COUNT(DISTINCT(order_id)) AS prod_total_orders,\n",
    "        AVG(add_to_cart_order) AS prod_avg_add_to_cart_order,\n",
    "        AVG(days_since_prior_order) AS prod_avg_days_since_prior_order\n",
    "        FROM train\n",
    "        GROUP BY product_id\n",
    "        \"\"\""
   ]
  },
  {
   "cell_type": "code",
   "execution_count": 29,
   "metadata": {},
   "outputs": [],
   "source": [
    "cursor.execute(fill_prod)"
   ]
  },
  {
   "cell_type": "code",
   "execution_count": 56,
   "metadata": {},
   "outputs": [],
   "source": [
    "prod_query = \"SELECT * FROM prod_df;\"\n",
    "\n",
    "prod_df = pd_sql.read_sql(prod_query, connection)"
   ]
  },
  {
   "cell_type": "code",
   "execution_count": 64,
   "metadata": {},
   "outputs": [],
   "source": [
    "## pickle product dataframe for later use\n",
    "# with open('prod_df.pickle', 'wb') as to_write:\n",
    "#     pickle.dump(prod_df, to_write)"
   ]
  },
  {
   "cell_type": "markdown",
   "metadata": {},
   "source": [
    "### Create User_Product SQL Table From Train Table"
   ]
  },
  {
   "cell_type": "code",
   "execution_count": null,
   "metadata": {},
   "outputs": [],
   "source": [
    "# terminal command for creating new SQL table\n",
    "CREATE TABLE IF NOT EXISTS user_product (\n",
    "  user_id int NOT NULL,\n",
    "  product_id int NOT NULL,\n",
    "  user_prod_total_orders int NOT NULL,\n",
    "  user_prod_avg_cart_order float(2) NOT NULL,\n",
    "#     as user_prod_orders_since_prior_order\n",
    "#     as user_prod_avg_dow\n",
    "#  user_prod_order_freq double precision NOT NULL);"
   ]
  },
  {
   "cell_type": "code",
   "execution_count": 53,
   "metadata": {},
   "outputs": [],
   "source": [
    "fill_user_prod = \"\"\"\n",
    "INSERT INTO user_product (user_id, product_id,user_prod_total_orders, user_prod_avg_cart_order)\n",
    "    SELECT\n",
    "    user_id,\n",
    "    product_id,\n",
    "    COUNT(DISTINCT(order_id)) AS user_prod_total_orders,\n",
    "    AVG(add_to_cart_order) AS user_prod_avg_cart_order   \n",
    "    FROM train\n",
    "    GROUP BY user_id, product_id\n",
    "    \"\"\""
   ]
  },
  {
   "cell_type": "code",
   "execution_count": 54,
   "metadata": {},
   "outputs": [],
   "source": [
    "cursor.execute(fill_user_prod)"
   ]
  },
  {
   "cell_type": "code",
   "execution_count": 55,
   "metadata": {},
   "outputs": [
    {
     "data": {
      "text/html": [
       "<div>\n",
       "<style scoped>\n",
       "    .dataframe tbody tr th:only-of-type {\n",
       "        vertical-align: middle;\n",
       "    }\n",
       "\n",
       "    .dataframe tbody tr th {\n",
       "        vertical-align: top;\n",
       "    }\n",
       "\n",
       "    .dataframe thead th {\n",
       "        text-align: right;\n",
       "    }\n",
       "</style>\n",
       "<table border=\"1\" class=\"dataframe\">\n",
       "  <thead>\n",
       "    <tr style=\"text-align: right;\">\n",
       "      <th></th>\n",
       "      <th>product_id</th>\n",
       "      <th>prod_total_orders</th>\n",
       "      <th>prod_avg_add_to_cart_order</th>\n",
       "      <th>prod_avg_days_since_prior_order</th>\n",
       "    </tr>\n",
       "  </thead>\n",
       "  <tbody>\n",
       "    <tr>\n",
       "      <th>0</th>\n",
       "      <td>1</td>\n",
       "      <td>1202</td>\n",
       "      <td>6</td>\n",
       "      <td>10.32610</td>\n",
       "    </tr>\n",
       "    <tr>\n",
       "      <th>1</th>\n",
       "      <td>2</td>\n",
       "      <td>60</td>\n",
       "      <td>11</td>\n",
       "      <td>9.90000</td>\n",
       "    </tr>\n",
       "    <tr>\n",
       "      <th>2</th>\n",
       "      <td>3</td>\n",
       "      <td>193</td>\n",
       "      <td>6</td>\n",
       "      <td>9.63212</td>\n",
       "    </tr>\n",
       "    <tr>\n",
       "      <th>3</th>\n",
       "      <td>4</td>\n",
       "      <td>218</td>\n",
       "      <td>10</td>\n",
       "      <td>13.54130</td>\n",
       "    </tr>\n",
       "    <tr>\n",
       "      <th>4</th>\n",
       "      <td>5</td>\n",
       "      <td>12</td>\n",
       "      <td>5</td>\n",
       "      <td>11.16670</td>\n",
       "    </tr>\n",
       "    <tr>\n",
       "      <th>...</th>\n",
       "      <td>...</td>\n",
       "      <td>...</td>\n",
       "      <td>...</td>\n",
       "      <td>...</td>\n",
       "    </tr>\n",
       "    <tr>\n",
       "      <th>49463</th>\n",
       "      <td>49684</td>\n",
       "      <td>7</td>\n",
       "      <td>5</td>\n",
       "      <td>9.00000</td>\n",
       "    </tr>\n",
       "    <tr>\n",
       "      <th>49464</th>\n",
       "      <td>49685</td>\n",
       "      <td>31</td>\n",
       "      <td>10</td>\n",
       "      <td>12.06450</td>\n",
       "    </tr>\n",
       "    <tr>\n",
       "      <th>49465</th>\n",
       "      <td>49686</td>\n",
       "      <td>81</td>\n",
       "      <td>9</td>\n",
       "      <td>9.51852</td>\n",
       "    </tr>\n",
       "    <tr>\n",
       "      <th>49466</th>\n",
       "      <td>49687</td>\n",
       "      <td>9</td>\n",
       "      <td>9</td>\n",
       "      <td>13.22220</td>\n",
       "    </tr>\n",
       "    <tr>\n",
       "      <th>49467</th>\n",
       "      <td>49688</td>\n",
       "      <td>58</td>\n",
       "      <td>9</td>\n",
       "      <td>15.75860</td>\n",
       "    </tr>\n",
       "  </tbody>\n",
       "</table>\n",
       "<p>49468 rows × 4 columns</p>\n",
       "</div>"
      ],
      "text/plain": [
       "       product_id  prod_total_orders  prod_avg_add_to_cart_order  \\\n",
       "0               1               1202                           6   \n",
       "1               2                 60                          11   \n",
       "2               3                193                           6   \n",
       "3               4                218                          10   \n",
       "4               5                 12                           5   \n",
       "...           ...                ...                         ...   \n",
       "49463       49684                  7                           5   \n",
       "49464       49685                 31                          10   \n",
       "49465       49686                 81                           9   \n",
       "49466       49687                  9                           9   \n",
       "49467       49688                 58                           9   \n",
       "\n",
       "       prod_avg_days_since_prior_order  \n",
       "0                             10.32610  \n",
       "1                              9.90000  \n",
       "2                              9.63212  \n",
       "3                             13.54130  \n",
       "4                             11.16670  \n",
       "...                                ...  \n",
       "49463                          9.00000  \n",
       "49464                         12.06450  \n",
       "49465                          9.51852  \n",
       "49466                         13.22220  \n",
       "49467                         15.75860  \n",
       "\n",
       "[49468 rows x 4 columns]"
      ]
     },
     "execution_count": 55,
     "metadata": {},
     "output_type": "execute_result"
    }
   ],
   "source": [
    "user_prod_query = \"SELECT * FROM user_product LIMIT 10;\"\n",
    "\n",
    "pd_sql.read_sql(prod_query, connection)"
   ]
  }
 ],
 "metadata": {
  "kernelspec": {
   "display_name": "Python [conda env:metis] *",
   "language": "python",
   "name": "conda-env-metis-py"
  },
  "language_info": {
   "codemirror_mode": {
    "name": "ipython",
    "version": 3
   },
   "file_extension": ".py",
   "mimetype": "text/x-python",
   "name": "python",
   "nbconvert_exporter": "python",
   "pygments_lexer": "ipython3",
   "version": "3.7.4"
  }
 },
 "nbformat": 4,
 "nbformat_minor": 4
}
